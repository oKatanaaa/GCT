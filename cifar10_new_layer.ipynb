{
 "cells": [
  {
   "cell_type": "code",
   "execution_count": null,
   "metadata": {},
   "outputs": [],
   "source": [
    "!git clone https://github.com/oKatanaaa/GCT"
   ]
  },
  {
   "cell_type": "code",
   "execution_count": null,
   "metadata": {},
   "outputs": [],
   "source": [
    "!pip install --upgrade git+https://github.com/oKatanaaa/MakiFlow.git"
   ]
  },
  {
   "cell_type": "code",
   "execution_count": null,
   "metadata": {},
   "outputs": [],
   "source": [
    "%tensorflow_version 1.x"
   ]
  },
  {
   "cell_type": "code",
   "execution_count": null,
   "metadata": {},
   "outputs": [],
   "source": [
    "#from GCT.tools import load_cifar10\n",
    "from makiflow.layers import *\n",
    "from makiflow.models import Classificator\n",
    "from makiflow.generators.classification im\n",
    "from makiflow.base import MakiLayer\n",
    "import tensorflow as tf\n",
    "import matplotlib.pyplot as plt\n",
    "%matplotlib inline"
   ]
  },
  {
   "cell_type": "code",
   "execution_count": null,
   "metadata": {},
   "outputs": [],
   "source": [
    "(Xtrain, Ytrain), (Xtest, Ytest), (X_mean, X_std) = load_cifar10()"
   ]
  },
  {
   "cell_type": "code",
   "execution_count": null,
   "metadata": {},
   "outputs": [],
   "source": [
    "BATCH_SIZE = 64"
   ]
  },
  {
   "cell_type": "code",
   "execution_count": null,
   "metadata": {},
   "outputs": [],
   "source": [
    "def block(x, id, in_f, out_f):\n",
    "    x_skip = x\n",
    "    x_main = x\n",
    "    x_main = ConvLayer(kw=3, kh=3, in_f=in_f, out_f=out_f, name=f'conv_main{id}_1')(x_main)\n",
    "    x_main = BatchNormLayer(D=out_f, name=f'bn_main{id}_1')(x_main)\n",
    "    x_main = ConvLayer(kw=3, kh=3, in_f=out_f, out_f=out_f, name=f'conv_main{id}_2')(x_main)\n",
    "    x_main = BatchNormLayer(D=out_f, name=f'bn_main{id}_2')(x_main)\n",
    "    x_main = MaxPoolLayer(name=f'mp{id}')(x_main)\n",
    "\n",
    "    x_skip = ConvLayer(kw=1, kh=1, in_f=in_f, out_f=out_f, stride=2, activation=None, name=f'conv_skip{id}')(x_skip)\n",
    "    x_skip = BatchNormLayer(D=out_f, name=f'bn_skip{id}_1')(x_skip)\n",
    "\n",
    "    x_sum = SumLayer(name=f'sum{id}')([x_main, x_skip])\n",
    "    return x_sum"
   ]
  },
  {
   "cell_type": "code",
   "execution_count": null,
   "metadata": {},
   "outputs": [],
   "source": [
    "inp1 = InputLayer(input_shape=[BATCH_SIZE, 32, 32, 3], name='input')\n",
    "x1 = block(inp1, id=1, in_f=3, out_f=32)\n",
    "# 16x16\n",
    "x1 = block(x1, id=2, in_f=32, out_f=64)\n",
    "# 8x8\n",
    "x1 = block(x1, id=3, in_f=64, out_f=128)\n",
    "# 4x4\n",
    "x1 = block(x1, id=4, in_f=128, out_f=256)\n",
    "# 2x2\n",
    "x1 = FlattenLayer('flat')(x1)\n",
    "# 4*256 = 1024\n",
    "x1 = DenseLayer(in_d=1024, out_d=256, name='projection_head')(x1)\n",
    "x1 = DenseLayer(in_d=256, out_d=10, activation=None, name='classification_head')(x1)"
   ]
  },
  {
   "cell_type": "code",
   "execution_count": null,
   "metadata": {},
   "outputs": [],
   "source": [
    "model1 = Classificator(input=inp1, output=x1)\n",
    "sess = tf.Session()\n",
    "model.set_session(sess)"
   ]
  },
  {
   "cell_type": "code",
   "execution_count": null,
   "metadata": {},
   "outputs": [],
   "source": [
    "opt = tf.train.AdamOptimizer()"
   ]
  },
  {
   "cell_type": "code",
   "execution_count": null,
   "metadata": {},
   "outputs": [],
   "source": [
    "gen = cycle_generator(Xtrain, Ytrain.reshape(-1), BATCH_SIZE)"
   ]
  },
  {
   "cell_type": "code",
   "execution_count": null,
   "metadata": {},
   "outputs": [],
   "source": [
    "## Train a model with classic architecture for the comparison later"
   ]
  },
  {
   "cell_type": "code",
   "execution_count": null,
   "metadata": {},
   "outputs": [],
   "source": [
    "info1 = model1.genfit_ce(gen, (Xtest, Ytest.reshape(-1)), optimizer=opt, epochs=10, iter=400)"
   ]
  },
  {
   "cell_type": "code",
   "execution_count": null,
   "metadata": {},
   "outputs": [],
   "source": [
    "class NewLayer(MakiLayer):    \n",
    "    def _forward(self, x, computation_mode=MakiLayer.INFERENCE_MODE):\n",
    "        pass\n",
    "    \n",
    "    def _training_forward(self, x):\n",
    "        pass\n",
    "    \n",
    "    @staticmethod\n",
    "    def build(params: dict):\n",
    "        pass\n",
    "\n",
    "    def to_dict(self):\n",
    "        pass"
   ]
  },
  {
   "cell_type": "code",
   "execution_count": null,
   "metadata": {},
   "outputs": [],
   "source": [
    "def new_block(x, id, in_f, out_f):\n",
    "    # ADD NEW LAYER HERE\n",
    "    x_skip = x\n",
    "    x_main = x\n",
    "    x_main = ConvLayer(kw=3, kh=3, in_f=in_f, out_f=out_f, name=f'conv_main{id}_1')(x_main)\n",
    "    x_main = BatchNormLayer(D=out_f, name=f'bn_main{id}_1')(x_main)\n",
    "    x_main = ConvLayer(kw=3, kh=3, in_f=out_f, out_f=out_f, name=f'conv_main{id}_2')(x_main)\n",
    "    x_main = BatchNormLayer(D=out_f, name=f'bn_main{id}_2')(x_main)\n",
    "    x_main = MaxPoolLayer(name=f'mp{id}')(x_main)\n",
    "\n",
    "    x_skip = ConvLayer(kw=1, kh=1, in_f=in_f, out_f=out_f, stride=2, activation=None, name=f'conv_skip{id}')(x_skip)\n",
    "    x_skip = BatchNormLayer(D=out_f, name=f'bn_skip{id}_1')(x_skip)\n",
    "\n",
    "    x_sum = SumLayer(name=f'sum{id}')([x_main, x_skip])\n",
    "    return x_sum"
   ]
  },
  {
   "cell_type": "code",
   "execution_count": null,
   "metadata": {},
   "outputs": [],
   "source": [
    "inp2 = InputLayer(input_shape=[BATCH_SIZE, 32, 32, 3], name='input')\n",
    "x2 = block(inp2, id=1, in_f=3, out_f=32)\n",
    "# 16x16\n",
    "x2 = block(x2, id=2, in_f=32, out_f=64)\n",
    "# 8x8\n",
    "x2 = block(x2, id=3, in_f=64, out_f=128)\n",
    "# 4x4\n",
    "x2 = block(x2, id=4, in_f=128, out_f=256)\n",
    "# 2x2\n",
    "x2 = FlattenLayer('flat')(x2)\n",
    "# 4*256 = 1024\n",
    "x2 = DenseLayer(in_d=1024, out_d=256, name='projection_head')(x2)\n",
    "x2 = DenseLayer(in_d=256, out_d=10, activation=None, name='classification_head')(x2)"
   ]
  },
  {
   "cell_type": "code",
   "execution_count": null,
   "metadata": {},
   "outputs": [],
   "source": [
    "model2 = Classificator(input=inp2, output=x2)\n",
    "model2.set_session(sess)"
   ]
  },
  {
   "cell_type": "code",
   "execution_count": null,
   "metadata": {},
   "outputs": [],
   "source": [
    "info2 = model1.genfit_ce(gen, (Xtest, Ytest.reshape(-1)), optimizer=opt, epochs=10, iter=400)"
   ]
  },
  {
   "cell_type": "code",
   "execution_count": null,
   "metadata": {},
   "outputs": [],
   "source": [
    "plt.plot(info1['test errors'], label='model1 errors')\n",
    "plt.legend()\n",
    "plt.plot(info2['test errors'], label='model2 errors')\n",
    "plt.legend()"
   ]
  },
  {
   "cell_type": "code",
   "execution_count": null,
   "metadata": {},
   "outputs": [],
   "source": []
  }
 ],
 "metadata": {
  "kernelspec": {
   "display_name": "Python 3",
   "language": "python",
   "name": "python3"
  },
  "language_info": {
   "codemirror_mode": {
    "name": "ipython",
    "version": 3
   },
   "file_extension": ".py",
   "mimetype": "text/x-python",
   "name": "python",
   "nbconvert_exporter": "python",
   "pygments_lexer": "ipython3",
   "version": "3.7.3"
  }
 },
 "nbformat": 4,
 "nbformat_minor": 4
}
