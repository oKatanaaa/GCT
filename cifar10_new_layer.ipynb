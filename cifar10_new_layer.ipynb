{
 "cells": [
  {
   "cell_type": "code",
   "execution_count": null,
   "metadata": {},
   "outputs": [],
   "source": [
    "!git clone https://github.com/oKatanaaa/GCT"
   ]
  },
  {
   "cell_type": "code",
   "execution_count": null,
   "metadata": {},
   "outputs": [],
   "source": [
    "!pip install --upgrade git+https://github.com/oKatanaaa/MakiFlow.git"
   ]
  },
  {
   "cell_type": "code",
   "execution_count": null,
   "metadata": {},
   "outputs": [],
   "source": [
    "%tensorflow_version 1.x"
   ]
  },
  {
   "cell_type": "code",
   "execution_count": null,
   "metadata": {},
   "outputs": [],
   "source": [
    "from GCT.tools import load_cifar10\n",
    "import matplotlib.pyplot as plt\n",
    "from makiflow.models.classificator import Classificator, CETrainer\n",
    "from makiflow.generators.classification import cycle_generator\n",
    "import tensorflow as tf\n",
    "from makiflow.layers import *\n",
    "import numpy as np\n",
    "%matplotlib inline"
   ]
  },
  {
   "cell_type": "code",
   "execution_count": null,
   "metadata": {},
   "outputs": [],
   "source": [
    "(Xtrain, Ytrain), (Xtest, Ytest), (X_mean, X_std) = load_cifar10()"
   ]
  },
  {
   "cell_type": "code",
   "execution_count": null,
   "metadata": {},
   "outputs": [],
   "source": [
    "BATCH_SIZE = 64"
   ]
  },
  {
   "cell_type": "code",
   "execution_count": null,
   "metadata": {},
   "outputs": [],
   "source": [
    "def block(x, id, in_f, out_f):\n",
    "    SX = x\n",
    "    FX = x\n",
    "    \n",
    "    FX = BatchNormLayer(D=in_f, name=f'bn_main_{id}_1')(FX)\n",
    "    FX = ActivationLayer(name=f'act_1_{id}')(FX)\n",
    "    FX = ConvLayer(kw=3, kh=3, in_f=in_f, out_f=out_f, name=f'conv_main_{id}_1', activation=None)(FX)\n",
    "    \n",
    "    FX = BatchNormLayer(D=out_f, name=f'bn_main_{id}_2')(FX)\n",
    "    FX = ActivationLayer(name=f'act_2_{id}')(FX)\n",
    "    FX = ConvLayer(kw=3, kh=3, in_f=out_f, out_f=out_f, name=f'conv_main_{id}_2', activation=None)(FX)\n",
    "\n",
    "    if in_f != out_f:\n",
    "        SX = BatchNormLayer(D=in_f, name=f'bn_skip_{id}_1')(SX)\n",
    "        SX = ConvLayer(kw=1, kh=1, in_f=in_f, out_f=out_f, name=f'conv_skip_{id}', activation=None)(SX)\n",
    "    \n",
    "    x_sum = SumLayer(name=f'sum_{id}')([FX, SX])\n",
    "    return x_sum"
   ]
  },
  {
   "cell_type": "code",
   "execution_count": null,
   "metadata": {},
   "outputs": [],
   "source": [
    "inp = InputLayer(input_shape=[BATCH_SIZE, 32, 32, 3], name='input')\n",
    "x = block(inp, id=1, in_f=3, out_f=32)\n",
    "x = MaxPoolLayer(name='mp1')(x)\n",
    "# 16x16\n",
    "x = block(x, id=2, in_f=32, out_f=64)\n",
    "x = block(x, id=3, in_f=64, out_f=64)\n",
    "x = MaxPoolLayer(name='mp2')(x)\n",
    "# 8x8\n",
    "x = block(x, id=4, in_f=64, out_f=128)\n",
    "x = block(x, id=5, in_f=128, out_f=128)\n",
    "x = MaxPoolLayer(name='mp3')(x)\n",
    "# 4x4\n",
    "x = block(x, id=6, in_f=128, out_f=256)\n",
    "x = block(x, id=7, in_f=256, out_f=256)\n",
    "x = MaxPoolLayer(name='mp4')(x)\n",
    "# 2x2\n",
    "x = FlattenLayer('flat')(x)\n",
    "# 4*256 = 1024\n",
    "x = DenseLayer(in_d=1024, out_d=256, name='projection_head')(x)\n",
    "x = DenseLayer(in_d=256, out_d=10, activation=None, name='classification_head')(x)"
   ]
  },
  {
   "cell_type": "code",
   "execution_count": null,
   "metadata": {},
   "outputs": [],
   "source": [
    "model = Classificator(in_x=inp, out_x=x)\n",
    "sess = tf.Session()\n",
    "model.set_session(sess)"
   ]
  },
  {
   "cell_type": "code",
   "execution_count": null,
   "metadata": {},
   "outputs": [],
   "source": [
    "# Setup training"
   ]
  },
  {
   "cell_type": "code",
   "execution_count": null,
   "metadata": {},
   "outputs": [],
   "source": [
    "trainer = CETrainer(model=model, train_inputs=[InputLayer(input_shape=[BATCH_SIZE, 32, 32, 3], name='input')])"
   ]
  },
  {
   "cell_type": "code",
   "execution_count": null,
   "metadata": {},
   "outputs": [],
   "source": [
    "opt = tf.train.AdamOptimizer()"
   ]
  },
  {
   "cell_type": "code",
   "execution_count": null,
   "metadata": {},
   "outputs": [],
   "source": [
    "gen = cycle_generator(Xtrain, Ytrain.reshape(-1), BATCH_SIZE)"
   ]
  },
  {
   "cell_type": "code",
   "execution_count": null,
   "metadata": {},
   "outputs": [],
   "source": [
    "## Train a model with classic architecture for the comparison later"
   ]
  },
  {
   "cell_type": "code",
   "execution_count": null,
   "metadata": {},
   "outputs": [],
   "source": [
    "info1 = trainer.fit_generator(gen, optimizer=opt, epochs=5, iter=100, print_period=10)"
   ]
  },
  {
   "cell_type": "code",
   "execution_count": null,
   "metadata": {},
   "outputs": [],
   "source": [
    "model.evaluate(Xtest, Ytest.reshape(-1))"
   ]
  },
  {
   "cell_type": "code",
   "execution_count": null,
   "metadata": {},
   "outputs": [],
   "source": [
    "from makiflow.core import MakiLayer"
   ]
  },
  {
   "cell_type": "code",
   "execution_count": null,
   "metadata": {},
   "outputs": [],
   "source": [
    "class NewLayer(MakiLayer):    \n",
    "    def _forward(self, x, computation_mode=MakiLayer.INFERENCE_MODE):\n",
    "        pass\n",
    "    \n",
    "    def _training_forward(self, x):\n",
    "        pass\n",
    "    \n",
    "    @staticmethod\n",
    "    def build(params: dict):\n",
    "        pass\n",
    "\n",
    "    def to_dict(self):\n",
    "        pass"
   ]
  },
  {
   "cell_type": "code",
   "execution_count": null,
   "metadata": {},
   "outputs": [],
   "source": [
    "def block(x, id, in_f, out_f):\n",
    "    SX = x\n",
    "    FX = x\n",
    "    \n",
    "    FX = BatchNormLayer(D=in_f, name=f'bn_main_{id}_1')(FX)\n",
    "    FX = ActivationLayer(name=f'act_1_{id}')(FX)\n",
    "    FX = ConvLayer(kw=3, kh=3, in_f=in_f, out_f=out_f, name=f'conv_main_{id}_1', activation=None)(FX)\n",
    "    \n",
    "    FX = BatchNormLayer(D=out_f, name=f'bn_main_{id}_2')(FX)\n",
    "    FX = ActivationLayer(name=f'act_2_{id}')(FX)\n",
    "    FX = ConvLayer(kw=3, kh=3, in_f=out_f, out_f=out_f, name=f'conv_main_{id}_2', activation=None)(FX)\n",
    "\n",
    "    if in_f != out_f:\n",
    "        SX = BatchNormLayer(D=in_f, name=f'bn_skip_{id}_1')(SX)\n",
    "        SX = ConvLayer(kw=1, kh=1, in_f=in_f, out_f=out_f, name=f'conv_skip_{id}', activation=None)(SX)\n",
    "    \n",
    "    x_sum = SumLayer(name=f'sum_{id}')([FX, SX])\n",
    "    return x_sum"
   ]
  },
  {
   "cell_type": "code",
   "execution_count": null,
   "metadata": {},
   "outputs": [],
   "source": [
    "inp = InputLayer(input_shape=[BATCH_SIZE, 32, 32, 3], name='input')\n",
    "x = block(inp, id=1, in_f=3, out_f=32)\n",
    "x = MaxPoolLayer(name='mp1')(x)\n",
    "# 16x16\n",
    "x = block(x, id=2, in_f=32, out_f=64)\n",
    "x = block(x, id=3, in_f=64, out_f=64)\n",
    "x = MaxPoolLayer(name='mp2')(x)\n",
    "# 8x8\n",
    "x = block(x, id=4, in_f=64, out_f=128)\n",
    "x = block(x, id=5, in_f=128, out_f=128)\n",
    "x = MaxPoolLayer(name='mp3')(x)\n",
    "# 4x4\n",
    "x = block(x, id=6, in_f=128, out_f=256)\n",
    "x = block(x, id=7, in_f=256, out_f=256)\n",
    "x = MaxPoolLayer(name='mp4')(x)\n",
    "# 2x2\n",
    "x = FlattenLayer('flat')(x)\n",
    "# 4*256 = 1024\n",
    "x = DenseLayer(in_d=1024, out_d=256, name='projection_head')(x)\n",
    "x = DenseLayer(in_d=256, out_d=10, activation=None, name='classification_head')(x)"
   ]
  },
  {
   "cell_type": "code",
   "execution_count": null,
   "metadata": {},
   "outputs": [],
   "source": [
    "model2 = Classificator(in_x=inp2, out_x=x2)\n",
    "model2.set_session(sess)"
   ]
  },
  {
   "cell_type": "code",
   "execution_count": null,
   "metadata": {},
   "outputs": [],
   "source": [
    "opt2 = tf.train.AdamOptimizer()"
   ]
  },
  {
   "cell_type": "code",
   "execution_count": null,
   "metadata": {},
   "outputs": [],
   "source": [
    "trainer2 = CETrainer(model=model2, train_inputs=[InputLayer(input_shape=[BATCH_SIZE, 32, 32, 3], name='input')])"
   ]
  },
  {
   "cell_type": "code",
   "execution_count": null,
   "metadata": {},
   "outputs": [],
   "source": [
    "info1 = trainer2.fit_generator(gen, optimizer=opt2, epochs=5, iter=100, print_period=10)"
   ]
  },
  {
   "cell_type": "code",
   "execution_count": null,
   "metadata": {},
   "outputs": [],
   "source": [
    "plt.plot(info1['test errors'], label='model1 errors')\n",
    "plt.legend()\n",
    "plt.plot(info2['test errors'], label='model2 errors')\n",
    "plt.legend()"
   ]
  },
  {
   "cell_type": "code",
   "execution_count": null,
   "metadata": {},
   "outputs": [],
   "source": []
  }
 ],
 "metadata": {
  "kernelspec": {
   "display_name": "Python 3",
   "language": "python",
   "name": "python3"
  },
  "language_info": {
   "codemirror_mode": {
    "name": "ipython",
    "version": 3
   },
   "file_extension": ".py",
   "mimetype": "text/x-python",
   "name": "python",
   "nbconvert_exporter": "python",
   "pygments_lexer": "ipython3",
   "version": "3.7.3"
  }
 },
 "nbformat": 4,
 "nbformat_minor": 4
}
