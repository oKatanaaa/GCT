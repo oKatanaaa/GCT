{
 "cells": [
  {
   "cell_type": "code",
   "execution_count": null,
   "metadata": {},
   "outputs": [],
   "source": [
    "!git clone https://github.com/oKatanaaa/GCT"
   ]
  },
  {
   "cell_type": "code",
   "execution_count": null,
   "metadata": {},
   "outputs": [],
   "source": [
    "!pip install --upgrade git+https://github.com/oKatanaaa/MakiFlow.git"
   ]
  },
  {
   "cell_type": "code",
   "execution_count": null,
   "metadata": {},
   "outputs": [],
   "source": [
    "%tensorflow_version 1.x"
   ]
  },
  {
   "cell_type": "code",
   "execution_count": null,
   "metadata": {},
   "outputs": [],
   "source": [
    "from GCT.tools import load_cifar10\n",
    "import matplotlib.pyplot as plt\n",
    "%matplotlib inline\n",
    "from makiflow.models import Classificator\n",
    "from makiflow.generators.classification import cycle_generator\n",
    "import tensorflow as tf\n",
    "from makiflow.layers import *"
   ]
  },
  {
   "cell_type": "code",
   "execution_count": null,
   "metadata": {},
   "outputs": [],
   "source": [
    "(Xtrain, Ytrain), (Xtest, Ytest), (X_mean, X_std) = load_cifar10()"
   ]
  },
  {
   "cell_type": "code",
   "execution_count": null,
   "metadata": {},
   "outputs": [],
   "source": [
    "BATCH_SIZE = 64"
   ]
  },
  {
   "cell_type": "code",
   "execution_count": null,
   "metadata": {},
   "outputs": [],
   "source": [
    "def block(x, id, in_f, out_f):\n",
    "    x_skip = x\n",
    "    x_main = x\n",
    "    x_main = ConvLayer(kw=3, kh=3, in_f=in_f, out_f=out_f, name=f'conv_main{id}_1')(x_main)\n",
    "    x_main = BatchNormLayer(D=out_f, name=f'bn_main{id}_1')(x_main)\n",
    "    x_main = ConvLayer(kw=3, kh=3, in_f=out_f, out_f=out_f, name=f'conv_main{id}_2')(x_main)\n",
    "    x_main = BatchNormLayer(D=out_f, name=f'bn_main{id}_2')(x_main)\n",
    "    x_main = MaxPoolLayer(name=f'mp{id}')(x_main)\n",
    "\n",
    "    x_skip = ConvLayer(kw=1, kh=1, in_f=in_f, out_f=out_f, stride=2, activation=None, name=f'conv_skip{id}')(x_skip)\n",
    "    x_skip = BatchNormLayer(D=out_f, name=f'bn_skip{id}_1')(x_skip)\n",
    "\n",
    "    x_sum = SumLayer(name=f'sum{id}')([x_main, x_skip])\n",
    "    return x_sum"
   ]
  },
  {
   "cell_type": "code",
   "execution_count": null,
   "metadata": {},
   "outputs": [],
   "source": [
    "inp = InputLayer(input_shape=[BATCH_SIZE, 32, 32, 3], name='input')\n",
    "x = block(inp, id=1, in_f=3, out_f=32)\n",
    "# 16x16\n",
    "x = block(x, id=2, in_f=32, out_f=64)\n",
    "# 8x8\n",
    "x = block(x, id=3, in_f=64, out_f=128)\n",
    "# 4x4\n",
    "x = block(x, id=4, in_f=128, out_f=256)\n",
    "# 2x2\n",
    "x = FlattenLayer('flat')(x)\n",
    "# 4*256 = 1024\n",
    "x = DenseLayer(in_d=1024, out_d=256, name='projection_head')(x)\n",
    "x = DenseLayer(in_d=256, out_d=10, activation=None, name='classification_head')(x)"
   ]
  },
  {
   "cell_type": "code",
   "execution_count": null,
   "metadata": {},
   "outputs": [],
   "source": [
    "model = Classificator(input=inp, output=x)\n",
    "sess = tf.Session()\n",
    "model.set_session(sess)"
   ]
  },
  {
   "cell_type": "code",
   "execution_count": null,
   "metadata": {},
   "outputs": [],
   "source": [
    "opt = tf.train.AdamOptimizer()"
   ]
  },
  {
   "cell_type": "code",
   "execution_count": null,
   "metadata": {},
   "outputs": [],
   "source": [
    "gen = cycle_generator(Xtrain, Ytrain.reshape(-1), BATCH_SIZE)"
   ]
  },
  {
   "cell_type": "code",
   "execution_count": null,
   "metadata": {},
   "outputs": [],
   "source": [
    "info1 = model.genfit_ce(gen, (Xtest, Ytest.reshape(-1)), optimizer=opt, epochs=5, iter=100)"
   ]
  },
  {
   "cell_type": "code",
   "execution_count": null,
   "metadata": {},
   "outputs": [],
   "source": [
    "plt.plot(info1['test errors'])"
   ]
  }
 ],
 "metadata": {
  "kernelspec": {
   "display_name": "Python 3",
   "language": "python",
   "name": "python3"
  },
  "language_info": {
   "codemirror_mode": {
    "name": "ipython",
    "version": 3
   },
   "file_extension": ".py",
   "mimetype": "text/x-python",
   "name": "python",
   "nbconvert_exporter": "python",
   "pygments_lexer": "ipython3",
   "version": "3.7.3"
  }
 },
 "nbformat": 4,
 "nbformat_minor": 4
}
