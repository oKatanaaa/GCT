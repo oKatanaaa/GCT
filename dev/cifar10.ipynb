{
 "cells": [
  {
   "cell_type": "code",
   "execution_count": 1,
   "metadata": {},
   "outputs": [],
   "source": [
    "#!pip install --upgrade git+https://github.com/oKatanaaa/GCT"
   ]
  },
  {
   "cell_type": "code",
   "execution_count": 2,
   "metadata": {},
   "outputs": [],
   "source": [
    "#!pip install --upgrade git+https://github.com/MakiResearchTeam/MakiFlow.git"
   ]
  },
  {
   "cell_type": "code",
   "execution_count": 3,
   "metadata": {},
   "outputs": [],
   "source": [
    "#%tensorflow_version 1.x"
   ]
  },
  {
   "cell_type": "code",
   "execution_count": 1,
   "metadata": {},
   "outputs": [],
   "source": [
    "import tensorflow as tf"
   ]
  },
  {
   "cell_type": "code",
   "execution_count": 2,
   "metadata": {},
   "outputs": [
    {
     "name": "stdout",
     "output_type": "stream",
     "text": [
      "WARNING:tensorflow:From C:\\PyCharm Projects\\MakiFlow\\makiflow\\core\\inference\\maki_core.py:108: The name tf.Session is deprecated. Please use tf.compat.v1.Session instead.\n",
      "\n"
     ]
    }
   ],
   "source": [
    "from gct.tools import load_cifar10\n",
    "import matplotlib.pyplot as plt\n",
    "from makiflow.models.classificator import Classificator, CETrainer\n",
    "from makiflow.generators.classification import cycle_generator\n",
    "import tensorflow as tf\n",
    "from makiflow.layers import *\n",
    "import numpy as np\n",
    "%matplotlib inline"
   ]
  },
  {
   "cell_type": "code",
   "execution_count": 3,
   "metadata": {},
   "outputs": [],
   "source": [
    "(Xtrain, Ytrain), (Xtest, Ytest), (X_mean, X_std) = load_cifar10()"
   ]
  },
  {
   "cell_type": "code",
   "execution_count": 4,
   "metadata": {},
   "outputs": [],
   "source": [
    "BATCH_SIZE = 64"
   ]
  },
  {
   "cell_type": "code",
   "execution_count": 5,
   "metadata": {},
   "outputs": [],
   "source": [
    "def block(x, id, in_f, out_f):\n",
    "    SX = x\n",
    "    FX = x\n",
    "    \n",
    "    FX = BatchNormLayer(D=in_f, name=f'bn_main_{id}_1')(FX)\n",
    "    FX = ActivationLayer(name=f'act_1_{id}')(FX)\n",
    "    FX = ConvLayer(kw=3, kh=3, in_f=in_f, out_f=out_f, name=f'conv_main_{id}_1', activation=None)(FX)\n",
    "    \n",
    "    FX = BatchNormLayer(D=out_f, name=f'bn_main_{id}_2')(FX)\n",
    "    FX = ActivationLayer(name=f'act_2_{id}')(FX)\n",
    "    FX = ConvLayer(kw=3, kh=3, in_f=out_f, out_f=out_f, name=f'conv_main_{id}_2', activation=None)(FX)\n",
    "\n",
    "    if in_f != out_f:\n",
    "        SX = BatchNormLayer(D=in_f, name=f'bn_skip_{id}_1')(SX)\n",
    "        SX = ConvLayer(kw=1, kh=1, in_f=in_f, out_f=out_f, name=f'conv_skip_{id}', activation=None)(SX)\n",
    "    \n",
    "    x_sum = SumLayer(name=f'sum_{id}')([FX, SX])\n",
    "    return x_sum"
   ]
  },
  {
   "cell_type": "code",
   "execution_count": 6,
   "metadata": {},
   "outputs": [],
   "source": [
    "# Create a model"
   ]
  },
  {
   "cell_type": "code",
   "execution_count": 7,
   "metadata": {},
   "outputs": [
    {
     "name": "stdout",
     "output_type": "stream",
     "text": [
      "WARNING:tensorflow:From C:\\PyCharm Projects\\MakiFlow\\makiflow\\layers\\untrainable_layers.py:44: The name tf.placeholder is deprecated. Please use tf.compat.v1.placeholder instead.\n",
      "\n",
      "WARNING:tensorflow:From C:\\PyCharm Projects\\MakiFlow\\makiflow\\layers\\untrainable_layers.py:494: The name tf.nn.max_pool is deprecated. Please use tf.nn.max_pool2d instead.\n",
      "\n",
      "WARNING:tensorflow:\n",
      "The TensorFlow contrib module will not be included in TensorFlow 2.0.\n",
      "For more information, please see:\n",
      "  * https://github.com/tensorflow/community/blob/master/rfcs/20180907-contrib-sunset.md\n",
      "  * https://github.com/tensorflow/addons\n",
      "  * https://github.com/tensorflow/io (for I/O related ops)\n",
      "If you depend on functionality not listed there, please file an issue.\n",
      "\n",
      "WARNING:tensorflow:From C:\\Users\\oKata\\anaconda3\\envs\\tf1\\lib\\site-packages\\tensorflow_core\\contrib\\layers\\python\\layers\\layers.py:1634: flatten (from tensorflow.python.layers.core) is deprecated and will be removed in a future version.\n",
      "Instructions for updating:\n",
      "Use keras.layers.flatten instead.\n",
      "WARNING:tensorflow:From C:\\Users\\oKata\\anaconda3\\envs\\tf1\\lib\\site-packages\\tensorflow_core\\python\\layers\\core.py:332: Layer.apply (from tensorflow.python.keras.engine.base_layer) is deprecated and will be removed in a future version.\n",
      "Instructions for updating:\n",
      "Please use `layer.__call__` method instead.\n"
     ]
    }
   ],
   "source": [
    "inp = InputLayer(input_shape=[BATCH_SIZE, 32, 32, 3], name='input')\n",
    "x = block(inp, id=1, in_f=3, out_f=32)\n",
    "x = MaxPoolLayer(name='mp1')(x)\n",
    "# 16x16\n",
    "x = block(x, id=2, in_f=32, out_f=64)\n",
    "x = block(x, id=3, in_f=64, out_f=64)\n",
    "x = MaxPoolLayer(name='mp2')(x)\n",
    "# 8x8\n",
    "x = block(x, id=4, in_f=64, out_f=128)\n",
    "x = block(x, id=5, in_f=128, out_f=128)\n",
    "x = MaxPoolLayer(name='mp3')(x)\n",
    "# 4x4\n",
    "x = block(x, id=6, in_f=128, out_f=256)\n",
    "x = block(x, id=7, in_f=256, out_f=256)\n",
    "x = MaxPoolLayer(name='mp4')(x)\n",
    "# 2x2\n",
    "x = FlattenLayer('flat')(x)\n",
    "# 4*256 = 1024\n",
    "x = DenseLayer(in_d=1024, out_d=256, name='projection_head')(x)\n",
    "x = DenseLayer(in_d=256, out_d=10, activation=None, name='classification_head')(x)"
   ]
  },
  {
   "cell_type": "code",
   "execution_count": 8,
   "metadata": {},
   "outputs": [
    {
     "name": "stdout",
     "output_type": "stream",
     "text": [
      "WARNING:tensorflow:From C:\\PyCharm Projects\\MakiFlow\\makiflow\\core\\inference\\maki_core.py:117: The name tf.variables_initializer is deprecated. Please use tf.compat.v1.variables_initializer instead.\n",
      "\n"
     ]
    }
   ],
   "source": [
    "model = Classificator(in_x=inp, out_x=x)\n",
    "sess = tf.Session()\n",
    "model.set_session(sess)"
   ]
  },
  {
   "cell_type": "code",
   "execution_count": 9,
   "metadata": {},
   "outputs": [],
   "source": [
    "# Setup training"
   ]
  },
  {
   "cell_type": "code",
   "execution_count": 10,
   "metadata": {},
   "outputs": [],
   "source": [
    "trainer = CETrainer(model=model, train_inputs=[InputLayer(input_shape=[BATCH_SIZE, 32, 32, 3], name='input')])"
   ]
  },
  {
   "cell_type": "code",
   "execution_count": 11,
   "metadata": {},
   "outputs": [
    {
     "name": "stdout",
     "output_type": "stream",
     "text": [
      "WARNING:tensorflow:From C:\\PyCharm Projects\\MakiFlow\\makiflow\\layers\\trainable_layers.py:1052: The name tf.assign is deprecated. Please use tf.compat.v1.assign instead.\n",
      "\n",
      "WARNING:tensorflow:From C:\\PyCharm Projects\\MakiFlow\\makiflow\\core\\training\\tensorboard.py:41: The name tf.summary.scalar is deprecated. Please use tf.compat.v1.summary.scalar instead.\n",
      "\n",
      "Loss is built.\n"
     ]
    }
   ],
   "source": [
    "trainer.compile()"
   ]
  },
  {
   "cell_type": "code",
   "execution_count": 12,
   "metadata": {},
   "outputs": [],
   "source": [
    "opt = tf.train.AdamOptimizer()"
   ]
  },
  {
   "cell_type": "code",
   "execution_count": 13,
   "metadata": {},
   "outputs": [],
   "source": [
    "gen = cycle_generator(Xtrain, Ytrain.reshape(-1), BATCH_SIZE)"
   ]
  },
  {
   "cell_type": "code",
   "execution_count": 32,
   "metadata": {
    "scrolled": true
   },
   "outputs": [
    {
     "name": "stdout",
     "output_type": "stream",
     "text": [
      "Collecting histogram tensors...\n"
     ]
    },
    {
     "name": "stderr",
     "output_type": "stream",
     "text": [
      "\r",
      "  0%|                                                                                          | 0/100 [00:00<?, ?it/s]"
     ]
    },
    {
     "name": "stdout",
     "output_type": "stream",
     "text": [
      "New optimizer is used.\n"
     ]
    },
    {
     "name": "stderr",
     "output_type": "stream",
     "text": [
      " 10%|████████                                                                         | 10/100 [00:01<00:12,  7.31it/s]"
     ]
    },
    {
     "name": "stdout",
     "output_type": "stream",
     "text": [
      "Epoch: 0\n",
      "Cross_Entropy: 5.1800777 \n",
      "Training_Loss: 5.1800777 \n",
      "\n",
      "\n",
      "Exception type: <class 'KeyboardInterrupt'>\n",
      "Exception values: \n",
      "Exception tracer: <traceback object at 0x000002A1F5919948>\n"
     ]
    },
    {
     "name": "stderr",
     "output_type": "stream",
     "text": [
      "\n"
     ]
    }
   ],
   "source": [
    "info1 = trainer.fit_generator(gen, optimizer=opt, epochs=5, iter=100, print_period=10)"
   ]
  },
  {
   "cell_type": "code",
   "execution_count": 14,
   "metadata": {},
   "outputs": [
    {
     "name": "stderr",
     "output_type": "stream",
     "text": [
      "157it [00:02, 59.14it/s] \n"
     ]
    },
    {
     "data": {
      "text/plain": [
       "0.9001"
      ]
     },
     "execution_count": 14,
     "metadata": {},
     "output_type": "execute_result"
    }
   ],
   "source": [
    "model.evaluate(Xtest, Ytest.reshape(-1))"
   ]
  },
  {
   "cell_type": "code",
   "execution_count": null,
   "metadata": {},
   "outputs": [],
   "source": [
    "plt.plot(info1[CETrainer.TRAINING_LOSS])"
   ]
  },
  {
   "cell_type": "code",
   "execution_count": 15,
   "metadata": {},
   "outputs": [
    {
     "data": {
      "text/plain": [
       "(46, 48)"
      ]
     },
     "execution_count": 15,
     "metadata": {},
     "output_type": "execute_result"
    }
   ],
   "source": [
    "np.random.randn(46, 48)[:48].shape"
   ]
  },
  {
   "cell_type": "code",
   "execution_count": null,
   "metadata": {},
   "outputs": [],
   "source": []
  }
 ],
 "metadata": {
  "kernelspec": {
   "display_name": "Python 3",
   "language": "python",
   "name": "python3"
  },
  "language_info": {
   "codemirror_mode": {
    "name": "ipython",
    "version": 3
   },
   "file_extension": ".py",
   "mimetype": "text/x-python",
   "name": "python",
   "nbconvert_exporter": "python",
   "pygments_lexer": "ipython3",
   "version": "3.7.9"
  }
 },
 "nbformat": 4,
 "nbformat_minor": 4
}
